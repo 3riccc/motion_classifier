{
 "cells": [
  {
   "cell_type": "code",
   "execution_count": 1,
   "metadata": {},
   "outputs": [],
   "source": [
    "import torch\n",
    "import torch.nn as nn\n",
    "import torch.optim as optim\n",
    "import numpy as np"
   ]
  },
  {
   "cell_type": "markdown",
   "metadata": {},
   "source": [
    "### data loading"
   ]
  },
  {
   "cell_type": "code",
   "execution_count": 2,
   "metadata": {},
   "outputs": [],
   "source": [
    "# walking 01\n",
    "adj = torch.load('./data/adj01.pkl')\n",
    "xs_wk = torch.load('./data/xs01.pkl')\n",
    "# running 09 (share the same adj with walking dataset)\n",
    "xs_ru = torch.load('./data/xs09.pkl')\n",
    "\n",
    "xs_tr = torch.cat((xs_wk[:100],xs_ru[:100]),dim=0).float()\n",
    "ys_tr = torch.cat((torch.ones(100),torch.zeros(100)),dim=0).long()\n",
    "\n",
    "xs_te = torch.cat((xs_wk[100:130],xs_ru[100:130]),dim=0).float()\n",
    "ys_te = torch.cat((torch.ones(30),torch.zeros(30)),dim=0).long()"
   ]
  },
  {
   "cell_type": "code",
   "execution_count": 3,
   "metadata": {},
   "outputs": [
    {
     "data": {
      "text/plain": [
       "torch.Size([60, 31, 3])"
      ]
     },
     "execution_count": 3,
     "metadata": {},
     "output_type": "execute_result"
    }
   ],
   "source": [
    "xs_te.shape"
   ]
  },
  {
   "cell_type": "code",
   "execution_count": 4,
   "metadata": {},
   "outputs": [
    {
     "data": {
      "text/plain": [
       "torch.Size([60])"
      ]
     },
     "execution_count": 4,
     "metadata": {},
     "output_type": "execute_result"
    }
   ],
   "source": [
    "ys_te.shape"
   ]
  },
  {
   "cell_type": "code",
   "execution_count": null,
   "metadata": {},
   "outputs": [],
   "source": []
  },
  {
   "cell_type": "code",
   "execution_count": 5,
   "metadata": {},
   "outputs": [],
   "source": [
    "#  adj to D^(-1/2)\n",
    "def preprocess(A):\n",
    "    # Get size of the adjacency matrix\n",
    "    size = len(A)\n",
    "    # Get the degrees for each node\n",
    "    degrees = []\n",
    "    for node_adjaceny in A:\n",
    "        num = 0\n",
    "        for node in node_adjaceny:\n",
    "            if node == 1.0:\n",
    "                num = num + 1\n",
    "        # Add an extra for the \"self loop\"\n",
    "        num = num + 1\n",
    "        degrees.append(num)\n",
    "    # Create diagonal matrix D from the degrees of the nodes\n",
    "    D = np.diag(degrees)\n",
    "    # Cholesky decomposition of D\n",
    "    D = np.linalg.cholesky(D)\n",
    "    # Inverse of the Cholesky decomposition of D\n",
    "    D = np.linalg.inv(D)\n",
    "    # Create an identity matrix of size x size\n",
    "    I = np.eye(size)\n",
    "    # Turn adjacency matrix into a numpy matrix\n",
    "    A = np.matrix(A)\n",
    "    # Create A hat\n",
    "    A_hat = A + I\n",
    "    # Return A_hat\n",
    "    return A_hat, D"
   ]
  },
  {
   "cell_type": "code",
   "execution_count": 6,
   "metadata": {},
   "outputs": [],
   "source": [
    "class GCN(nn.Module):\n",
    "    \"\"\"\n",
    "    This is a simple case of GCN model\n",
    "    This model is perpared for Motion Classification, thus it will be applied to the data\n",
    "    with 31 nodes(joints), each node has information with 3 dimitions indicating the\n",
    "    position of the node in 3D space\n",
    "    This model has 3 layers to aggregate neighbors info\n",
    "    After aggregation, we will cat node info together to predict the label of the body\n",
    "    \"\"\"\n",
    "    def __init__(self):\n",
    "        super(GCN, self).__init__()\n",
    "        # layer\n",
    "        self.l0 = nn.Linear(3,16,bias=False) #layer0\n",
    "        self.l1 = nn.Linear(16,16,bias=False) #layer1\n",
    "        self.out = nn.Linear(16,4) #output layer\n",
    "        self.cl = nn.Linear(4*31,2)  #cat info of all nodes and predict the label of the body\n",
    "\n",
    "    def forward(self,x,dad):\n",
    "        #x: [batch,node,dim]\n",
    "        #dad: [node,node]\n",
    "        h0 = x\n",
    "        dad = dad.unsqueeze(0).repeat(x.shape[0],1,1) #[node,node] => [batch,node,node]\n",
    "        h1 = torch.relu(self.l0(dad.bmm(h0)))\n",
    "        h2 = torch.relu(self.l1(dad.bmm(h1)))\n",
    "        out = self.out(h2)\n",
    "        out = out.view(h2.shape[0],-1)\n",
    "        out = self.cl(out)\n",
    "        return out"
   ]
  },
  {
   "cell_type": "code",
   "execution_count": 7,
   "metadata": {},
   "outputs": [],
   "source": [
    "gcn = GCN()\n",
    "lf = nn.CrossEntropyLoss() #loss function\n",
    "op = optim.Adam(gcn.parameters(),lr=0.001)"
   ]
  },
  {
   "cell_type": "markdown",
   "metadata": {},
   "source": [
    "### A to D^(-1/2)AD^(-1/2)"
   ]
  },
  {
   "cell_type": "code",
   "execution_count": 8,
   "metadata": {},
   "outputs": [],
   "source": [
    "a,d = preprocess(adj)\n",
    "a = torch.from_numpy(a)\n",
    "d = torch.from_numpy(d)\n",
    "dad = d.mm(a).mm(d).float()"
   ]
  },
  {
   "cell_type": "markdown",
   "metadata": {},
   "source": [
    "## training"
   ]
  },
  {
   "cell_type": "code",
   "execution_count": 9,
   "metadata": {},
   "outputs": [],
   "source": [
    "ls = []\n",
    "ltes = []\n",
    "for e in range(400):\n",
    "    # train\n",
    "    op.zero_grad()\n",
    "    out = gcn(xs_tr,dad)\n",
    "    loss = lf(out,ys_tr)\n",
    "    loss.backward()\n",
    "    ls.append(loss.item())\n",
    "    op.step()\n",
    "    # test\n",
    "    out = gcn(xs_te,dad)\n",
    "    lte = lf(out,ys_te)\n",
    "    ltes.append(lte.item())"
   ]
  },
  {
   "cell_type": "markdown",
   "metadata": {},
   "source": [
    "## plot the loss"
   ]
  },
  {
   "cell_type": "code",
   "execution_count": 10,
   "metadata": {},
   "outputs": [],
   "source": [
    "import matplotlib.pyplot as plt"
   ]
  },
  {
   "cell_type": "code",
   "execution_count": 11,
   "metadata": {},
   "outputs": [
    {
     "data": {
      "image/png": "[encoded data removed]",
      "text/plain": [
       "<Figure size 432x288 with 1 Axes>"
      ]
     },
     "metadata": {
      "needs_background": "light"
     },
     "output_type": "display_data"
    }
   ],
   "source": [
    "plt.plot(ls,label='train')\n",
    "plt.plot(ltes,label='test')\n",
    "plt.legend()\n",
    "plt.show()"
   ]
  },
  {
   "cell_type": "code",
   "execution_count": 12,
   "metadata": {},
   "outputs": [],
   "source": [
    "te = gcn(xs_te[-3:],dad)"
   ]
  },
  {
   "cell_type": "code",
   "execution_count": 13,
   "metadata": {},
   "outputs": [],
   "source": [
    "softmax_func=nn.Softmax(dim=1)\n",
    "so=softmax_func(te)"
   ]
  },
  {
   "cell_type": "code",
   "execution_count": null,
   "metadata": {},
   "outputs": [],
   "source": []
  },
  {
   "cell_type": "code",
   "execution_count": null,
   "metadata": {},
   "outputs": [],
   "source": []
  }
 ],
 "metadata": {
  "kernelspec": {
   "display_name": "Python 3",
   "language": "python",
   "name": "python3"
  },
  "language_info": {
   "codemirror_mode": {
    "name": "ipython",
    "version": 3
   },
   "file_extension": ".py",
   "mimetype": "text/x-python",
   "name": "python",
   "nbconvert_exporter": "python",
   "pygments_lexer": "ipython3",
   "version": "3.6.12"
  }
 },
 "nbformat": 4,
 "nbformat_minor": 4
}
